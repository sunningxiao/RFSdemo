{
 "cells": [
  {
   "cell_type": "code",
   "execution_count": 1,
   "metadata": {
    "collapsed": true
   },
   "outputs": [],
   "source": [
    "import numpy as np\n",
    "import matplotlib.pyplot as plt\n",
    "from waveforms import cos,sin,gaussian, cosPulse,zero, square\n",
    "from scipy.signal import savgol_filter,correlate\n",
    "from scipy.signal import find_peaks\n",
    "from scipy.optimize import curve_fit\n",
    "from scipy.interpolate import interp1d\n",
    "from scipy import integrate\n",
    "\n",
    "from pathlib import Path\n",
    "import os\n",
    "import time as TM\n",
    "from quantum_driver.NS_MCI import Driver"
   ]
  },
  {
   "cell_type": "code",
   "execution_count": 2,
   "outputs": [
    {
     "name": "stdout",
     "output_type": "stream",
     "text": [
      "180000\n"
     ]
    },
    {
     "data": {
      "text/plain": "<Figure size 576x432 with 8 Axes>",
      "image/png": "[encoded data removed]"
     },
     "metadata": {
      "needs_background": "light"
     },
     "output_type": "display_data"
    }
   ],
   "source": [
    "samplerate = 6e9\n",
    "\n",
    "time_len = 30e-6\n",
    "width = 15e-9\n",
    "freq = 1400e6\n",
    "time = np.linspace(0,time_len,int(time_len*samplerate))\n",
    "\n",
    "wav1 = (cos(2*np.pi*freq))*(square(width,edge=2e-9)>>time_len/2)\n",
    "wav2 = (cos(2*np.pi*freq))*(gaussian(width)>>time_len/2)\n",
    "#t3,wav3 = Pulse_wav(envelope= 'cosPulse', width = width, freq=freq, time_len= time_len)\n",
    "wav3 = (cos(2*np.pi*freq))*(cosPulse(width)>>time_len/2)\n",
    "# t3,wav3 = Pulse_wav(waveform = 'cos',samplerate = samplerate,freq = freq,time_len = time_len ,width = width,repeat = 1)\n",
    "\n",
    "wav4 = (square(width)>>time_len/2)\n",
    "\n",
    "\n",
    "print(len(wav1(time)))\n",
    "fig,axs = plt.subplots(4,2,figsize=(8, 6))\n",
    "# axs = axs.flatten()\n",
    "for i in range(4):\n",
    "    axs[i][0].plot(time,eval(f'wav{i+1}(time)'))\n",
    "    fft_freq = np.fft.fftfreq(int(time_len*samplerate),1/samplerate)\n",
    "    axs[i][1].plot(fft_freq,np.abs(np.fft.fft(np.hamming(int(time_len*samplerate))*(eval(f'wav{i+1}(time)')))),'.-')\n",
    "fig.tight_layout()"
   ],
   "metadata": {
    "collapsed": false,
    "pycharm": {
     "name": "#%%\n"
    }
   }
  },
  {
   "cell_type": "code",
   "execution_count": 6,
   "outputs": [
    {
     "name": "stdout",
     "output_type": "stream",
     "text": [
      "指令初始化执行成功\n",
      "指令DAC配置执行成功\n",
      "指令ADC配置执行成功\n"
     ]
    }
   ],
   "source": [
    "driver = Driver('192.168.1.194')\n",
    "driver.open(system_parameter = {'RefClock': 'in'})"
   ],
   "metadata": {
    "collapsed": false,
    "pycharm": {
     "name": "#%%\n"
    }
   }
  },
  {
   "cell_type": "code",
   "execution_count": 7,
   "outputs": [
    {
     "name": "stdout",
     "output_type": "stream",
     "text": [
      "远程函数报错: \n",
      "<class 'NS_MCI.config.RPCMethodExecuteError'>:Traceback with variables (most recent call last):\n",
      "  File \"/home/digilab/RFSdemo/NS_MCI/config.py\", line 116, in wrap\n",
      "    return func(*args, **kwargs)\n",
      "      args = (<__main__.RFSKitRPCServer object at 0x7f60ae0fa0>, 'PointNumber', ['complex', 1.0, 5.0], 1)\n",
      "      kwargs = {}\n",
      "      e = TypeError(\"int() argument must be a string, a bytes-like object or a real number, not 'complex'\")\n",
      "      func = <function RFSKitRPCServer.rpc_set at 0x7f60ae52d0>\n",
      "  File \"/home/digilab/RFSdemo/rpcserver.py\", line 169, in rpc_set\n",
      "    self.rfs_kit.set_param_value(param_name, value)\n",
      "      self = <__main__.RFSKitRPCServer object at 0x7f60ae0fa0>\n",
      "      name = 'PointNumber'\n",
      "      value = (1+5j)\n",
      "      channel = 0\n",
      "      execute = True\n",
      "      param_name = 'ADC0门宽'\n",
      "  File \"/home/digilab/RFSdemo/NS_MCI/basekit.py\", line 184, in set_param_value\n",
      "    return self.icd_param.set_param(param_name, value, fmt_type)\n",
      "      self = <NS_MCI.basekit.RFSKit object at 0x7f60ae10f0>\n",
      "      param_name = 'ADC0门宽'\n",
      "      value = (1+5j)\n",
      "      fmt_type = <class 'int'>\n",
      "  File \"/home/digilab/RFSdemo/NS_MCI/icd_parser.py\", line 123, in set_param\n",
      "    param[2] = value_python[param[1]](value)\n",
      "      self = <NS_MCI.icd_parser.ICDParams object at 0x7f60ae1150>\n",
      "      param_name = 'ADC0门宽'\n",
      "      value = (1+5j)\n",
      "      fmt_type = <class 'int'>\n",
      "      param = ['ADC0门宽', 'uint32', 4096]\n",
      "builtins.TypeError: int() argument must be a string, a bytes-like object or a real number, not 'complex'\n"
     ]
    }
   ],
   "source": [
    "driver.set('PointNumber', 1+5j, 1)"
   ],
   "metadata": {
    "collapsed": false,
    "pycharm": {
     "name": "#%%\n"
    }
   }
  },
  {
   "cell_type": "code",
   "execution_count": 3,
   "outputs": [
    {
     "name": "stdout",
     "output_type": "stream",
     "text": [
      "Info: 参数载入成功\n"
     ]
    }
   ],
   "source": [
    "from xmlrpc.server import SimpleXMLRPCServer\n",
    "import numpy as np\n",
    "from typing import List, Tuple\n",
    "import waveforms\n",
    "\n",
    "from NS_MCI.tools.printLog import *\n",
    "from NS_MCI.config import solve_exception\n",
    "from NS_MCI.interface import DataNoneInterface, CommandTCPInterface\n",
    "from NS_MCI import RFSKit\n",
    "from NS_MCI.tools.data_unpacking import UnPackage\n",
    "from NS_MCI.xdma import LightDMAMixin\n",
    "from NS_MCI.config import param_cmd_map\n",
    "from svqbit import SolveQubit\n",
    "from quantum_driver.NS_MCI import RPCValueParser\n",
    "\n",
    "CommandTCPInterface._timeout = 10\n",
    "CommandTCPInterface._target_id = '192.168.1.175'\n",
    "rfs_kit = RFSKit(auto_load_icd=True,\n",
    "                              auto_write_file=False,\n",
    "                              cmd_interface=CommandTCPInterface,\n",
    "                              data_interface=DataNoneInterface)\n",
    "rfs_kit.start_command()\n",
    "rfs_kit.set_param_value('DAC通道选择', 1)\n",
    "value = wav3(time).tobytes()"
   ],
   "metadata": {
    "collapsed": false,
    "pycharm": {
     "name": "#%%\n"
    }
   }
  },
  {
   "cell_type": "code",
   "execution_count": 4,
   "outputs": [
    {
     "name": "stdout",
     "output_type": "stream",
     "text": [
      "3.5637688636779785\n"
     ]
    }
   ],
   "source": [
    "start = TM.time()\n",
    "for i in range(10):\n",
    "    rfs_kit.execute_command('DAC数据更新', True, value)\n",
    "print(TM.time()-start)"
   ],
   "metadata": {
    "collapsed": false,
    "pycharm": {
     "name": "#%%\n"
    }
   }
  },
  {
   "cell_type": "code",
   "execution_count": 6,
   "outputs": [
    {
     "name": "stdout",
     "output_type": "stream",
     "text": [
      "356 ms ± 92.6 ms per loop (mean ± std. dev. of 7 runs, 1 loop each)\n"
     ]
    }
   ],
   "source": [
    "%timeit rfs_kit.execute_command('DAC数据更新', True, value)"
   ],
   "metadata": {
    "collapsed": false,
    "pycharm": {
     "name": "#%%\n"
    }
   }
  },
  {
   "cell_type": "code",
   "execution_count": 7,
   "outputs": [
    {
     "name": "stdout",
     "output_type": "stream",
     "text": [
      "指令初始化执行成功\n",
      "指令DAC配置执行成功\n",
      "指令ADC配置执行成功\n"
     ]
    }
   ],
   "source": [
    "driver = Driver('192.168.1.194')\n",
    "driver.open(system_parameter = {'RefClock': 'in'})"
   ],
   "metadata": {
    "collapsed": false,
    "pycharm": {
     "name": "#%%\n"
    }
   }
  },
  {
   "cell_type": "code",
   "execution_count": 5,
   "outputs": [
    {
     "name": "stdout",
     "output_type": "stream",
     "text": [
      "Waveform 配置成功\n",
      "Waveform 配置成功\n",
      "Waveform 配置成功\n",
      "Waveform 配置成功\n",
      "Waveform 配置成功\n",
      "Waveform 配置成功\n",
      "Waveform 配置成功\n",
      "Waveform 配置成功\n",
      "181 ms ± 5.22 ms per loop (mean ± std. dev. of 7 runs, 1 loop each)\n"
     ]
    }
   ],
   "source": [
    "%timeit driver.set('Waveform', wav3(time), 1)"
   ],
   "metadata": {
    "collapsed": false,
    "pycharm": {
     "name": "#%%\n"
    }
   }
  },
  {
   "cell_type": "markdown",
   "source": [],
   "metadata": {
    "collapsed": false
   }
  },
  {
   "cell_type": "code",
   "execution_count": null,
   "outputs": [],
   "source": [],
   "metadata": {
    "collapsed": false,
    "pycharm": {
     "name": "#%%\n"
    }
   }
  }
 ],
 "metadata": {
  "kernelspec": {
   "name": "conda-env-.conda-quantum-py",
   "language": "python",
   "display_name": "Python [conda env:.conda-quantum]"
  },
  "language_info": {
   "codemirror_mode": {
    "name": "ipython",
    "version": 2
   },
   "file_extension": ".py",
   "mimetype": "text/x-python",
   "name": "python",
   "nbconvert_exporter": "python",
   "pygments_lexer": "ipython2",
   "version": "2.7.6"
  }
 },
 "nbformat": 4,
 "nbformat_minor": 0
}